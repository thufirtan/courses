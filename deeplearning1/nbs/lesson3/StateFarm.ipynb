{
 "cells": [
  {
   "cell_type": "markdown",
   "metadata": {},
   "source": [
    "### Preparation of Training and Validation Sets"
   ]
  },
  {
   "cell_type": "code",
   "execution_count": 1,
   "metadata": {
    "collapsed": true
   },
   "outputs": [],
   "source": [
    "import os"
   ]
  },
  {
   "cell_type": "code",
   "execution_count": 4,
   "metadata": {
    "collapsed": true
   },
   "outputs": [],
   "source": [
    "lesson_dir = os.getcwd()\n",
    "data_dir = os.path.join(lesson_dir, 'data')\n",
    "if not os.path.isdir(data_dir): os.mkdir(data_dir)"
   ]
  },
  {
   "cell_type": "code",
   "execution_count": 5,
   "metadata": {
    "collapsed": false
   },
   "outputs": [],
   "source": [
    "train_dir = os.path.join(data_dir, 'train')\n",
    "categories = [dir for dir in os.listdir(train_dir) if os.path.isdir(os.path.join(train_dir, dir))]"
   ]
  },
  {
   "cell_type": "code",
   "execution_count": 4,
   "metadata": {
    "collapsed": true
   },
   "outputs": [],
   "source": [
    "for directory in ['full', 'sample']:\n",
    "    for subdirectory in ['train', 'validation']:\n",
    "        for category in categories:\n",
    "            full_dir = os.path.join(data_dir, directory, subdirectory, category)\n",
    "            if not os.path.isdir(full_dir): os.makedirs(full_dir)"
   ]
  },
  {
   "cell_type": "code",
   "execution_count": 5,
   "metadata": {
    "collapsed": true
   },
   "outputs": [],
   "source": [
    "def copyfiles(list_file_paths, target_dir):\n",
    "    for path in list_file_paths: shutil.copy(path, target_dir)"
   ]
  },
  {
   "cell_type": "code",
   "execution_count": 6,
   "metadata": {
    "collapsed": false
   },
   "outputs": [],
   "source": [
    "import shutil\n",
    "import glob\n",
    "from sklearn.cross_validation import train_test_split\n",
    "sample_size = 10\n",
    "for category in categories:\n",
    "    img_files = glob.glob(os.path.join(train_dir, category, 'img*'))\n",
    "    train_img, val_img = train_test_split(img_files, test_size=0.15)\n",
    "    copyfiles(train_img, os.path.join(data_dir, 'full', 'train', category))\n",
    "    copyfiles(val_img, os.path.join(data_dir, 'full', 'validation', category))\n",
    "    copyfiles(train_img[:sample_size], os.path.join(data_dir, 'sample', 'train', category))\n",
    "    copyfiles(val_img[:sample_size], os.path.join(data_dir, 'sample', 'validation', category))"
   ]
  },
  {
   "cell_type": "markdown",
   "metadata": {},
   "source": [
    "### Load VGG16 Model and Weights"
   ]
  },
  {
   "cell_type": "code",
   "execution_count": 2,
   "metadata": {
    "collapsed": false
   },
   "outputs": [
    {
     "name": "stderr",
     "output_type": "stream",
     "text": [
      "Using Theano backend.\n",
      "Using gpu device 0: Tesla K80 (CNMeM is disabled, cuDNN 5103)\n",
      "/home/ubuntu/anaconda2/lib/python2.7/site-packages/theano/sandbox/cuda/__init__.py:600: UserWarning: Your cuDNN version is more recent than the one Theano officially supports. If you see any problems, try updating Theano or downgrading cuDNN to version 5.\n",
      "  warnings.warn(warn)\n"
     ]
    }
   ],
   "source": [
    "import sys\n",
    "sys.path.insert(1, '../')\n",
    "from vgg16 import Vgg16\n",
    "from utils import *"
   ]
  },
  {
   "cell_type": "code",
   "execution_count": 6,
   "metadata": {
    "collapsed": false
   },
   "outputs": [],
   "source": [
    "#model_data_dir = os.path.join(data_dir, 'sample')\n",
    "model_data_dir = os.path.join(data_dir, 'full')"
   ]
  },
  {
   "cell_type": "code",
   "execution_count": 7,
   "metadata": {
    "collapsed": false
   },
   "outputs": [],
   "source": [
    "vgg16 = Vgg16()"
   ]
  },
  {
   "cell_type": "code",
   "execution_count": 8,
   "metadata": {
    "collapsed": true
   },
   "outputs": [],
   "source": [
    "def pop_model_layers(model, nlayers):\n",
    "    for i in range(nlayers):\n",
    "        model.pop()"
   ]
  },
  {
   "cell_type": "code",
   "execution_count": 9,
   "metadata": {
    "collapsed": false
   },
   "outputs": [],
   "source": [
    "pop_model_layers(vgg16.model, 2)"
   ]
  },
  {
   "cell_type": "markdown",
   "metadata": {},
   "source": [
    "### Get VGG16 Features"
   ]
  },
  {
   "cell_type": "code",
   "execution_count": 10,
   "metadata": {
    "collapsed": false
   },
   "outputs": [
    {
     "name": "stdout",
     "output_type": "stream",
     "text": [
      "Found 19056 images belonging to 10 classes.\n",
      "Found 3368 images belonging to 10 classes.\n"
     ]
    }
   ],
   "source": [
    "train_batches = get_batches(os.path.join(model_data_dir, 'train'), shuffle=False, batch_size=1, target_size=(224,224))\n",
    "val_batches = get_batches(os.path.join(model_data_dir, 'validation'), shuffle=False, batch_size=1, target_size=(224,224))"
   ]
  },
  {
   "cell_type": "code",
   "execution_count": 11,
   "metadata": {
    "collapsed": true
   },
   "outputs": [],
   "source": [
    "train_labels = onehot(train_batches.classes)\n",
    "val_labels = onehot(val_batches.classes)"
   ]
  },
  {
   "cell_type": "code",
   "execution_count": 12,
   "metadata": {
    "collapsed": true
   },
   "outputs": [],
   "source": [
    "import bcolz\n",
    "def save_array(fname, arr): c=bcolz.carray(arr, rootdir=fname, mode='w'); c.flush()\n",
    "def load_array(fname): return bcolz.open(fname)[:]"
   ]
  },
  {
   "cell_type": "code",
   "execution_count": 13,
   "metadata": {
    "collapsed": false
   },
   "outputs": [],
   "source": [
    "#train_features = vgg16.model.predict_generator(train_batches, train_batches.N)\n",
    "train_features = load_array('train_features.bc')"
   ]
  },
  {
   "cell_type": "code",
   "execution_count": 14,
   "metadata": {
    "collapsed": true
   },
   "outputs": [],
   "source": [
    "#val_features = vgg16.model.predict_generator(val_batches, val_batches.N)\n",
    "val_features = load_array('val_features.bc')"
   ]
  },
  {
   "cell_type": "code",
   "execution_count": 15,
   "metadata": {
    "collapsed": false
   },
   "outputs": [
    {
     "data": {
      "text/plain": [
       "(3368, 4096)"
      ]
     },
     "execution_count": 15,
     "metadata": {},
     "output_type": "execute_result"
    }
   ],
   "source": [
    "val_features.shape"
   ]
  },
  {
   "cell_type": "code",
   "execution_count": 16,
   "metadata": {
    "collapsed": false
   },
   "outputs": [
    {
     "data": {
      "text/plain": [
       "(3368, 10)"
      ]
     },
     "execution_count": 16,
     "metadata": {},
     "output_type": "execute_result"
    }
   ],
   "source": [
    "val_labels.shape"
   ]
  },
  {
   "cell_type": "code",
   "execution_count": 17,
   "metadata": {
    "collapsed": true
   },
   "outputs": [],
   "source": [
    "from keras.models import Sequential\n",
    "lm = Sequential()\n",
    "lm.add(Dense(10, activation=\"softmax\", input_shape=(4096,)))\n",
    "lm.compile(optimizer='sgd', loss='categorical_crossentropy', metrics=['accuracy'])"
   ]
  },
  {
   "cell_type": "code",
   "execution_count": 23,
   "metadata": {
    "collapsed": false
   },
   "outputs": [
    {
     "name": "stdout",
     "output_type": "stream",
     "text": [
      "Train on 19056 samples, validate on 3368 samples\n",
      "Epoch 1/10\n",
      "19056/19056 [==============================] - 0s - loss: 1.6309 - acc: 0.8897 - val_loss: 1.6680 - val_acc: 0.8762\n",
      "Epoch 2/10\n",
      "19056/19056 [==============================] - 0s - loss: 1.6308 - acc: 0.8897 - val_loss: 1.6680 - val_acc: 0.8762\n",
      "Epoch 3/10\n",
      "19056/19056 [==============================] - 0s - loss: 1.6308 - acc: 0.8897 - val_loss: 1.6679 - val_acc: 0.8762\n",
      "Epoch 4/10\n",
      "19056/19056 [==============================] - 0s - loss: 1.6308 - acc: 0.8897 - val_loss: 1.6679 - val_acc: 0.8762\n",
      "Epoch 5/10\n",
      "19056/19056 [==============================] - 0s - loss: 1.6307 - acc: 0.8897 - val_loss: 1.6679 - val_acc: 0.8762\n",
      "Epoch 6/10\n",
      "19056/19056 [==============================] - 0s - loss: 1.6307 - acc: 0.8897 - val_loss: 1.6678 - val_acc: 0.8762\n",
      "Epoch 7/10\n",
      "19056/19056 [==============================] - 0s - loss: 1.6307 - acc: 0.8897 - val_loss: 1.6678 - val_acc: 0.8762\n",
      "Epoch 8/10\n",
      "19056/19056 [==============================] - 0s - loss: 1.6306 - acc: 0.8897 - val_loss: 1.6678 - val_acc: 0.8762\n",
      "Epoch 9/10\n",
      "19056/19056 [==============================] - 0s - loss: 1.6306 - acc: 0.8897 - val_loss: 1.6678 - val_acc: 0.8762\n",
      "Epoch 10/10\n",
      "19056/19056 [==============================] - 0s - loss: 1.6306 - acc: 0.8897 - val_loss: 1.6677 - val_acc: 0.8762\n"
     ]
    }
   ],
   "source": [
    "lm.fit(train_features, train_labels, batch_size=len(train_features), nb_epoch=10, validation_data=(val_features, val_labels));"
   ]
  },
  {
   "cell_type": "code",
   "execution_count": 24,
   "metadata": {
    "collapsed": true
   },
   "outputs": [],
   "source": [
    "lm.save_weights('linear.h5')"
   ]
  },
  {
   "cell_type": "code",
   "execution_count": 21,
   "metadata": {
    "collapsed": true
   },
   "outputs": [],
   "source": [
    "save_array('train_features.bc', train_features)\n",
    "save_array('val_features.bc', val_features)"
   ]
  },
  {
   "cell_type": "markdown",
   "metadata": {},
   "source": [
    "### Predictions"
   ]
  },
  {
   "cell_type": "code",
   "execution_count": 29,
   "metadata": {
    "collapsed": false
   },
   "outputs": [
    {
     "name": "stdout",
     "output_type": "stream",
     "text": [
      "Found 79726 images belonging to 1 classes.\n"
     ]
    }
   ],
   "source": [
    "test_batches = get_batches(os.path.join(data_dir, 'test'), shuffle=False, batch_size=1, target_size=(224,224))"
   ]
  },
  {
   "cell_type": "code",
   "execution_count": 25,
   "metadata": {
    "collapsed": true
   },
   "outputs": [],
   "source": [
    "#test_features = vgg16.model.predict_generator(test_batches, test_batches.N)\n",
    "test_features = load_array('test_features.bc')"
   ]
  },
  {
   "cell_type": "code",
   "execution_count": 32,
   "metadata": {
    "collapsed": true
   },
   "outputs": [],
   "source": [
    "save_array('test_features.bc', test_features)"
   ]
  },
  {
   "cell_type": "code",
   "execution_count": 26,
   "metadata": {
    "collapsed": false
   },
   "outputs": [
    {
     "name": "stdout",
     "output_type": "stream",
     "text": [
      "79488/79726 [============================>.] - ETA: 0s"
     ]
    }
   ],
   "source": [
    "test_preds = lm.predict_proba(test_features)"
   ]
  },
  {
   "cell_type": "code",
   "execution_count": 27,
   "metadata": {
    "collapsed": false
   },
   "outputs": [
    {
     "data": {
      "text/plain": [
       "array([[  1.1701e-01,   8.7711e-03,   1.9402e-04, ...,   3.7086e-02,   9.3559e-02,   6.3164e-09],\n",
       "       [  4.1925e-01,   2.0548e-02,   1.4706e-04, ...,   1.0565e-01,   8.1237e-02,   2.2366e-10],\n",
       "       [  7.0407e-05,   4.6851e-06,   1.7796e-01, ...,   2.3803e-05,   1.2520e-01,   1.7776e-12],\n",
       "       ..., \n",
       "       [  7.8182e-03,   1.1924e-03,   2.9820e-05, ...,   4.5712e-02,   8.9333e-02,   2.1313e-10],\n",
       "       [  8.5779e-01,   2.1967e-03,   3.9021e-05, ...,   5.3938e-03,   6.2099e-02,   5.5776e-11],\n",
       "       [  2.2212e-01,   7.4201e-04,   1.1398e-03, ...,   8.9940e-04,   1.6070e-03,   3.1491e-13]], dtype=float32)"
      ]
     },
     "execution_count": 27,
     "metadata": {},
     "output_type": "execute_result"
    }
   ],
   "source": [
    "test_preds"
   ]
  },
  {
   "cell_type": "code",
   "execution_count": 28,
   "metadata": {
    "collapsed": false
   },
   "outputs": [
    {
     "data": {
      "text/plain": [
       "(79726, 10)"
      ]
     },
     "execution_count": 28,
     "metadata": {},
     "output_type": "execute_result"
    }
   ],
   "source": [
    "test_preds.shape"
   ]
  },
  {
   "cell_type": "markdown",
   "metadata": {},
   "source": [
    "### Submit Preds"
   ]
  },
  {
   "cell_type": "code",
   "execution_count": 31,
   "metadata": {
    "collapsed": false
   },
   "outputs": [],
   "source": [
    "labels = np.clip(test_preds, 0.0125, 0.9875)"
   ]
  },
  {
   "cell_type": "code",
   "execution_count": 33,
   "metadata": {
    "collapsed": false
   },
   "outputs": [],
   "source": [
    "ids = [filename.split(\"/\")[1] for filename in test_batches.filenames]"
   ]
  },
  {
   "cell_type": "code",
   "execution_count": 34,
   "metadata": {
    "collapsed": true
   },
   "outputs": [],
   "source": [
    "submission = np.column_stack([ids, labels])"
   ]
  },
  {
   "cell_type": "code",
   "execution_count": null,
   "metadata": {
    "collapsed": true
   },
   "outputs": [],
   "source": [
    "np.savetxt('redux1.csv', submission, delimiter=',', header='img,c0,c1,c2,c3,c4,c5,c6,c7,c8,c9', fmt=\"%s\", comments='')"
   ]
  }
 ],
 "metadata": {
  "anaconda-cloud": {},
  "kernelspec": {
   "display_name": "Python [conda root]",
   "language": "python",
   "name": "conda-root-py"
  },
  "language_info": {
   "codemirror_mode": {
    "name": "ipython",
    "version": 2
   },
   "file_extension": ".py",
   "mimetype": "text/x-python",
   "name": "python",
   "nbconvert_exporter": "python",
   "pygments_lexer": "ipython2",
   "version": "2.7.12"
  }
 },
 "nbformat": 4,
 "nbformat_minor": 0
}
