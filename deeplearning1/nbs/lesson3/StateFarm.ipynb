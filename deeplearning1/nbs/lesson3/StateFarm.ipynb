{
 "cells": [
  {
   "cell_type": "markdown",
   "metadata": {},
   "source": [
    "### Preparation of Training and Validation Sets"
   ]
  },
  {
   "cell_type": "code",
   "execution_count": 1,
   "metadata": {
    "collapsed": true
   },
   "outputs": [],
   "source": [
    "import os"
   ]
  },
  {
   "cell_type": "code",
   "execution_count": 2,
   "metadata": {
    "collapsed": true
   },
   "outputs": [],
   "source": [
    "lesson_dir = os.getcwd()\n",
    "data_dir = os.path.join(lesson_dir, 'data')\n",
    "if not os.path.isdir(data_dir): os.mkdir(data_dir)"
   ]
  },
  {
   "cell_type": "code",
   "execution_count": 3,
   "metadata": {
    "collapsed": false
   },
   "outputs": [],
   "source": [
    "train_dir = os.path.join(data_dir, 'train')\n",
    "categories = [dir for dir in os.listdir(train_dir) if os.path.isdir(os.path.join(train_dir, dir))]"
   ]
  },
  {
   "cell_type": "markdown",
   "metadata": {},
   "source": [
    "Execute only during first run"
   ]
  },
  {
   "cell_type": "code",
   "execution_count": 4,
   "metadata": {
    "collapsed": true
   },
   "outputs": [],
   "source": [
    "for directory in ['full', 'sample']:\n",
    "    for subdirectory in ['train', 'validation']:\n",
    "        for category in categories:\n",
    "            full_dir = os.path.join(data_dir, directory, subdirectory, category)\n",
    "            if not os.path.isdir(full_dir): os.makedirs(full_dir)"
   ]
  },
  {
   "cell_type": "code",
   "execution_count": 5,
   "metadata": {
    "collapsed": true
   },
   "outputs": [],
   "source": [
    "def copyfiles(list_file_paths, target_dir):\n",
    "    for path in list_file_paths: shutil.copy(path, target_dir)"
   ]
  },
  {
   "cell_type": "code",
   "execution_count": 6,
   "metadata": {
    "collapsed": false
   },
   "outputs": [],
   "source": [
    "import shutil\n",
    "import glob\n",
    "from sklearn.cross_validation import train_test_split\n",
    "sample_size = 10\n",
    "for category in categories:\n",
    "    img_files = glob.glob(os.path.join(train_dir, category, 'img*'))\n",
    "    train_img, val_img = train_test_split(img_files, test_size=0.15)\n",
    "    copyfiles(train_img, os.path.join(data_dir, 'full', 'train', category))\n",
    "    copyfiles(val_img, os.path.join(data_dir, 'full', 'validation', category))\n",
    "    copyfiles(train_img[:sample_size], os.path.join(data_dir, 'sample', 'train', category))\n",
    "    copyfiles(val_img[:sample_size], os.path.join(data_dir, 'sample', 'validation', category))"
   ]
  },
  {
   "cell_type": "markdown",
   "metadata": {},
   "source": [
    "### Load VGG16 Model and Weights"
   ]
  },
  {
   "cell_type": "code",
   "execution_count": 4,
   "metadata": {
    "collapsed": false
   },
   "outputs": [
    {
     "name": "stderr",
     "output_type": "stream",
     "text": [
      "Using Theano backend.\n",
      "Using gpu device 0: Tesla K80 (CNMeM is disabled, cuDNN 5103)\n",
      "/home/ubuntu/anaconda2/lib/python2.7/site-packages/theano/sandbox/cuda/__init__.py:600: UserWarning: Your cuDNN version is more recent than the one Theano officially supports. If you see any problems, try updating Theano or downgrading cuDNN to version 5.\n",
      "  warnings.warn(warn)\n"
     ]
    }
   ],
   "source": [
    "import sys\n",
    "sys.path.insert(1, '../')\n",
    "from vgg16 import Vgg16\n",
    "from utils import *"
   ]
  },
  {
   "cell_type": "code",
   "execution_count": 5,
   "metadata": {
    "collapsed": false
   },
   "outputs": [],
   "source": [
    "#model_data_dir = os.path.join(data_dir, 'sample')\n",
    "model_data_dir = os.path.join(data_dir, 'full')"
   ]
  },
  {
   "cell_type": "code",
   "execution_count": 7,
   "metadata": {
    "collapsed": false
   },
   "outputs": [],
   "source": [
    "vgg16 = Vgg16()"
   ]
  },
  {
   "cell_type": "code",
   "execution_count": 8,
   "metadata": {
    "collapsed": true
   },
   "outputs": [],
   "source": [
    "def pop_model_layers(model, nlayers):\n",
    "    for i in range(nlayers):\n",
    "        model.pop()"
   ]
  },
  {
   "cell_type": "code",
   "execution_count": 9,
   "metadata": {
    "collapsed": false
   },
   "outputs": [],
   "source": [
    "pop_model_layers(vgg16.model, 2)"
   ]
  },
  {
   "cell_type": "markdown",
   "metadata": {},
   "source": [
    "### Get VGG16 Features"
   ]
  },
  {
   "cell_type": "code",
   "execution_count": 6,
   "metadata": {
    "collapsed": false
   },
   "outputs": [
    {
     "name": "stdout",
     "output_type": "stream",
     "text": [
      "Found 19056 images belonging to 10 classes.\n",
      "Found 3368 images belonging to 10 classes.\n"
     ]
    }
   ],
   "source": [
    "train_batches = get_batches(os.path.join(model_data_dir, 'train'), shuffle=False, batch_size=1, target_size=(224,224))\n",
    "val_batches = get_batches(os.path.join(model_data_dir, 'validation'), shuffle=False, batch_size=1, target_size=(224,224))"
   ]
  },
  {
   "cell_type": "code",
   "execution_count": 7,
   "metadata": {
    "collapsed": true
   },
   "outputs": [],
   "source": [
    "train_labels = onehot(train_batches.classes)\n",
    "val_labels = onehot(val_batches.classes)"
   ]
  },
  {
   "cell_type": "code",
<<<<<<< HEAD
   "execution_count": 67,
=======
   "execution_count": 8,
   "metadata": {
    "collapsed": true
   },
   "outputs": [],
   "source": [
    "import bcolz\n",
    "def save_array(fname, arr): c=bcolz.carray(arr, rootdir=fname, mode='w'); c.flush()\n",
    "def load_array(fname): return bcolz.open(fname)[:]"
   ]
  },
  {
   "cell_type": "code",
   "execution_count": 9,
>>>>>>> 32d54fe6763c675c33a28bc544c565e7a000d85f
   "metadata": {
    "collapsed": false
   },
   "outputs": [],
   "source": [
    "#train_features = vgg16.model.predict_generator(train_batches, train_batches.N)\n",
    "train_features = load_array('train_features.bc')"
   ]
  },
  {
   "cell_type": "code",
<<<<<<< HEAD
   "execution_count": 68,
=======
   "execution_count": 10,
>>>>>>> 32d54fe6763c675c33a28bc544c565e7a000d85f
   "metadata": {
    "collapsed": true
   },
   "outputs": [],
   "source": [
    "#val_features = vgg16.model.predict_generator(val_batches, val_batches.N)\n",
    "val_features = load_array('val_features.bc')"
   ]
  },
  {
   "cell_type": "code",
<<<<<<< HEAD
   "execution_count": 69,
=======
   "execution_count": 11,
>>>>>>> 32d54fe6763c675c33a28bc544c565e7a000d85f
   "metadata": {
    "collapsed": false
   },
   "outputs": [
    {
     "data": {
      "text/plain": [
       "(3368, 4096)"
      ]
     },
<<<<<<< HEAD
     "execution_count": 69,
=======
     "execution_count": 11,
>>>>>>> 32d54fe6763c675c33a28bc544c565e7a000d85f
     "metadata": {},
     "output_type": "execute_result"
    }
   ],
   "source": [
    "val_features.shape"
   ]
  },
  {
   "cell_type": "code",
<<<<<<< HEAD
   "execution_count": 70,
=======
   "execution_count": 12,
>>>>>>> 32d54fe6763c675c33a28bc544c565e7a000d85f
   "metadata": {
    "collapsed": false
   },
   "outputs": [
    {
     "data": {
      "text/plain": [
       "(3368, 10)"
      ]
     },
<<<<<<< HEAD
     "execution_count": 70,
=======
     "execution_count": 12,
>>>>>>> 32d54fe6763c675c33a28bc544c565e7a000d85f
     "metadata": {},
     "output_type": "execute_result"
    }
   ],
   "source": [
    "val_labels.shape"
   ]
  },
  {
   "cell_type": "markdown",
   "metadata": {},
   "source": [
    "### Simple Linear Model"
   ]
  },
  {
   "cell_type": "code",
<<<<<<< HEAD
   "execution_count": 71,
=======
   "execution_count": 13,
>>>>>>> 32d54fe6763c675c33a28bc544c565e7a000d85f
   "metadata": {
    "collapsed": true
   },
   "outputs": [],
   "source": [
    "from keras.models import Sequential\n",
    "lm = Sequential()\n",
    "lm.add(Dense(10, activation=\"softmax\", input_shape=(4096,)))\n",
    "lm.compile(optimizer='sgd', loss='categorical_crossentropy', metrics=['accuracy'])"
   ]
  },
  {
   "cell_type": "code",
<<<<<<< HEAD
   "execution_count": 72,
=======
   "execution_count": 14,
   "metadata": {
    "collapsed": true
   },
   "outputs": [],
   "source": [
    "lm.load_weights('linear.h5')"
   ]
  },
  {
   "cell_type": "code",
   "execution_count": 15,
   "metadata": {
    "collapsed": false
   },
   "outputs": [
    {
     "name": "stdout",
     "output_type": "stream",
     "text": [
      "Train on 19056 samples, validate on 3368 samples\n",
      "Epoch 1/10\n",
      "19056/19056 [==============================] - 0s - loss: 1.6305 - acc: 0.8897 - val_loss: 1.6677 - val_acc: 0.8762\n",
      "Epoch 2/10\n",
      "19056/19056 [==============================] - 0s - loss: 1.6305 - acc: 0.8897 - val_loss: 1.6677 - val_acc: 0.8762\n",
      "Epoch 3/10\n",
      "19056/19056 [==============================] - 0s - loss: 1.6305 - acc: 0.8897 - val_loss: 1.6676 - val_acc: 0.8762\n",
      "Epoch 4/10\n",
      "19056/19056 [==============================] - 0s - loss: 1.6304 - acc: 0.8898 - val_loss: 1.6676 - val_acc: 0.8762\n",
      "Epoch 5/10\n",
      "19056/19056 [==============================] - 0s - loss: 1.6304 - acc: 0.8898 - val_loss: 1.6676 - val_acc: 0.8762\n",
      "Epoch 6/10\n",
      "19056/19056 [==============================] - 0s - loss: 1.6304 - acc: 0.8898 - val_loss: 1.6675 - val_acc: 0.8762\n",
      "Epoch 7/10\n",
      "19056/19056 [==============================] - 0s - loss: 1.6303 - acc: 0.8899 - val_loss: 1.6675 - val_acc: 0.8762\n",
      "Epoch 8/10\n",
      "19056/19056 [==============================] - 0s - loss: 1.6303 - acc: 0.8899 - val_loss: 1.6675 - val_acc: 0.8762\n",
      "Epoch 9/10\n",
      "19056/19056 [==============================] - 0s - loss: 1.6303 - acc: 0.8899 - val_loss: 1.6674 - val_acc: 0.8762\n",
      "Epoch 10/10\n",
      "19056/19056 [==============================] - 0s - loss: 1.6302 - acc: 0.8899 - val_loss: 1.6674 - val_acc: 0.8762\n"
     ]
    }
   ],
   "source": [
    "lm.fit(train_features, train_labels, batch_size=len(train_features), nb_epoch=10, validation_data=(val_features, val_labels));"
   ]
  },
  {
   "cell_type": "code",
   "execution_count": null,
>>>>>>> 32d54fe6763c675c33a28bc544c565e7a000d85f
   "metadata": {
    "collapsed": true
   },
   "outputs": [],
   "source": [
    "lm.save_weights('linear.h5')"
   ]
  },
  {
   "cell_type": "code",
   "execution_count": 21,
   "metadata": {
    "collapsed": true
   },
   "outputs": [],
   "source": [
    "save_array('train_features.bc', train_features)\n",
    "save_array('val_features.bc', val_features)"
   ]
  },
  {
   "cell_type": "markdown",
   "metadata": {},
   "source": [
    "### Sequential Model"
   ]
  },
  {
   "cell_type": "code",
   "execution_count": 19,
   "metadata": {
    "collapsed": true
   },
   "outputs": [],
   "source": [
    "sm = Sequential()\n",
    "sm.add(Dense(256, activation=\"relu\", input_shape=(4096,)))\n",
    "sm.add(Dropout(0.2))\n",
    "sm.add(Dense(256, activation=\"relu\"))\n",
    "sm.add(Dropout(0.2))\n",
    "sm.add(Dense(10, activation=\"softmax\"))\n",
    "sm.compile(optimizer='sgd', loss='categorical_crossentropy', metrics=['accuracy'])"
   ]
  },
  {
   "cell_type": "code",
   "execution_count": 33,
   "metadata": {
    "collapsed": false
   },
   "outputs": [
    {
     "name": "stdout",
     "output_type": "stream",
     "text": [
      "Train on 19056 samples, validate on 3368 samples\n",
<<<<<<< HEAD
      "Epoch 1/1\n",
      "19056/19056 [==============================] - 0s - loss: 3.2545 - acc: 0.1169 - val_loss: 3.8740 - val_acc: 0.1217\n"
     ]
    }
   ],
=======
      "Epoch 1/100\n",
      "19056/19056 [==============================] - 0s - loss: 0.2707 - acc: 0.9286 - val_loss: 0.1976 - val_acc: 0.9528\n",
      "Epoch 2/100\n",
      "19056/19056 [==============================] - 0s - loss: 0.2696 - acc: 0.9290 - val_loss: 0.1977 - val_acc: 0.9522\n",
      "Epoch 3/100\n",
      "19056/19056 [==============================] - 0s - loss: 0.2688 - acc: 0.9276 - val_loss: 0.1974 - val_acc: 0.9519\n",
      "Epoch 4/100\n",
      "19056/19056 [==============================] - 0s - loss: 0.2675 - acc: 0.9276 - val_loss: 0.1973 - val_acc: 0.9519\n",
      "Epoch 5/100\n",
      "19056/19056 [==============================] - 0s - loss: 0.2655 - acc: 0.9306 - val_loss: 0.1970 - val_acc: 0.9525\n",
      "Epoch 6/100\n",
      "19056/19056 [==============================] - 0s - loss: 0.2641 - acc: 0.9309 - val_loss: 0.1964 - val_acc: 0.9522\n",
      "Epoch 7/100\n",
      "19056/19056 [==============================] - 0s - loss: 0.2698 - acc: 0.9289 - val_loss: 0.1963 - val_acc: 0.9525\n",
      "Epoch 8/100\n",
      "19056/19056 [==============================] - 0s - loss: 0.2672 - acc: 0.9280 - val_loss: 0.1962 - val_acc: 0.9522\n",
      "Epoch 9/100\n",
      "19056/19056 [==============================] - 0s - loss: 0.2685 - acc: 0.9281 - val_loss: 0.1957 - val_acc: 0.9525\n",
      "Epoch 10/100\n",
      "19056/19056 [==============================] - 0s - loss: 0.2678 - acc: 0.9289 - val_loss: 0.1955 - val_acc: 0.9525\n",
      "Epoch 11/100\n",
      "19056/19056 [==============================] - 0s - loss: 0.2670 - acc: 0.9284 - val_loss: 0.1954 - val_acc: 0.9522\n",
      "Epoch 12/100\n",
      "19056/19056 [==============================] - 0s - loss: 0.2632 - acc: 0.9302 - val_loss: 0.1952 - val_acc: 0.9528\n",
      "Epoch 13/100\n",
      "19056/19056 [==============================] - 0s - loss: 0.2651 - acc: 0.9295 - val_loss: 0.1953 - val_acc: 0.9525\n",
      "Epoch 14/100\n",
      "19056/19056 [==============================] - 0s - loss: 0.2661 - acc: 0.9298 - val_loss: 0.1945 - val_acc: 0.9534\n",
      "Epoch 15/100\n",
      "19056/19056 [==============================] - 0s - loss: 0.2636 - acc: 0.9306 - val_loss: 0.1947 - val_acc: 0.9528\n",
      "Epoch 16/100\n",
      "19056/19056 [==============================] - 0s - loss: 0.2668 - acc: 0.9267 - val_loss: 0.1942 - val_acc: 0.9540\n",
      "Epoch 17/100\n",
      "19056/19056 [==============================] - 0s - loss: 0.2644 - acc: 0.9286 - val_loss: 0.1939 - val_acc: 0.9528\n",
      "Epoch 18/100\n",
      "19056/19056 [==============================] - 0s - loss: 0.2648 - acc: 0.9305 - val_loss: 0.1938 - val_acc: 0.9531\n",
      "Epoch 19/100\n",
      "19056/19056 [==============================] - 0s - loss: 0.2626 - acc: 0.9298 - val_loss: 0.1937 - val_acc: 0.9537\n",
      "Epoch 20/100\n",
      "19056/19056 [==============================] - 0s - loss: 0.2609 - acc: 0.9308 - val_loss: 0.1932 - val_acc: 0.9534\n",
      "Epoch 21/100\n",
      "19056/19056 [==============================] - 0s - loss: 0.2645 - acc: 0.9287 - val_loss: 0.1933 - val_acc: 0.9540\n",
      "Epoch 22/100\n",
      "19056/19056 [==============================] - 0s - loss: 0.2632 - acc: 0.9292 - val_loss: 0.1930 - val_acc: 0.9540\n",
      "Epoch 23/100\n",
      "19056/19056 [==============================] - 0s - loss: 0.2592 - acc: 0.9310 - val_loss: 0.1928 - val_acc: 0.9537\n",
      "Epoch 24/100\n",
      "19056/19056 [==============================] - 0s - loss: 0.2618 - acc: 0.9288 - val_loss: 0.1925 - val_acc: 0.9531\n",
      "Epoch 25/100\n",
      "19056/19056 [==============================] - 0s - loss: 0.2558 - acc: 0.9324 - val_loss: 0.1919 - val_acc: 0.9540\n",
      "Epoch 26/100\n",
      "19056/19056 [==============================] - 0s - loss: 0.2624 - acc: 0.9283 - val_loss: 0.1919 - val_acc: 0.9534\n",
      "Epoch 27/100\n",
      "19056/19056 [==============================] - 0s - loss: 0.2593 - acc: 0.9305 - val_loss: 0.1916 - val_acc: 0.9534\n",
      "Epoch 28/100\n",
      "19056/19056 [==============================] - 0s - loss: 0.2602 - acc: 0.9292 - val_loss: 0.1912 - val_acc: 0.9540\n",
      "Epoch 29/100\n",
      "19056/19056 [==============================] - 0s - loss: 0.2623 - acc: 0.9297 - val_loss: 0.1910 - val_acc: 0.9540\n",
      "Epoch 30/100\n",
      "19056/19056 [==============================] - 0s - loss: 0.2593 - acc: 0.9326 - val_loss: 0.1908 - val_acc: 0.9543\n",
      "Epoch 31/100\n",
      "19056/19056 [==============================] - 0s - loss: 0.2569 - acc: 0.9303 - val_loss: 0.1907 - val_acc: 0.9543\n",
      "Epoch 32/100\n",
      "19056/19056 [==============================] - 0s - loss: 0.2606 - acc: 0.9297 - val_loss: 0.1902 - val_acc: 0.9546\n",
      "Epoch 33/100\n",
      "19056/19056 [==============================] - 0s - loss: 0.2570 - acc: 0.9306 - val_loss: 0.1903 - val_acc: 0.9543\n",
      "Epoch 34/100\n",
      "19056/19056 [==============================] - 0s - loss: 0.2577 - acc: 0.9333 - val_loss: 0.1899 - val_acc: 0.9546\n",
      "Epoch 35/100\n",
      "19056/19056 [==============================] - 0s - loss: 0.2590 - acc: 0.9293 - val_loss: 0.1902 - val_acc: 0.9531\n",
      "Epoch 36/100\n",
      "19056/19056 [==============================] - 0s - loss: 0.2540 - acc: 0.9308 - val_loss: 0.1896 - val_acc: 0.9543\n",
      "Epoch 37/100\n",
      "19056/19056 [==============================] - 0s - loss: 0.2575 - acc: 0.9322 - val_loss: 0.1895 - val_acc: 0.9534\n",
      "Epoch 38/100\n",
      "19056/19056 [==============================] - 0s - loss: 0.2565 - acc: 0.9334 - val_loss: 0.1889 - val_acc: 0.9552\n",
      "Epoch 39/100\n",
      "19056/19056 [==============================] - 0s - loss: 0.2600 - acc: 0.9302 - val_loss: 0.1891 - val_acc: 0.9543\n",
      "Epoch 40/100\n",
      "19056/19056 [==============================] - 0s - loss: 0.2535 - acc: 0.9346 - val_loss: 0.1889 - val_acc: 0.9540\n",
      "Epoch 41/100\n",
      "19056/19056 [==============================] - 0s - loss: 0.2541 - acc: 0.9317 - val_loss: 0.1882 - val_acc: 0.9552\n",
      "Epoch 42/100\n",
      "19056/19056 [==============================] - 0s - loss: 0.2608 - acc: 0.9289 - val_loss: 0.1884 - val_acc: 0.9549\n",
      "Epoch 43/100\n",
      "19056/19056 [==============================] - 0s - loss: 0.2616 - acc: 0.9282 - val_loss: 0.1880 - val_acc: 0.9549\n",
      "Epoch 44/100\n",
      "19056/19056 [==============================] - 0s - loss: 0.2549 - acc: 0.9312 - val_loss: 0.1877 - val_acc: 0.9552\n",
      "Epoch 45/100\n",
      "19056/19056 [==============================] - 0s - loss: 0.2565 - acc: 0.9320 - val_loss: 0.1877 - val_acc: 0.9546\n",
      "Epoch 46/100\n",
      "19056/19056 [==============================] - 0s - loss: 0.2541 - acc: 0.9332 - val_loss: 0.1874 - val_acc: 0.9555\n",
      "Epoch 47/100\n",
      "19056/19056 [==============================] - 0s - loss: 0.2547 - acc: 0.9310 - val_loss: 0.1871 - val_acc: 0.9552\n",
      "Epoch 48/100\n",
      "19056/19056 [==============================] - 0s - loss: 0.2491 - acc: 0.9348 - val_loss: 0.1867 - val_acc: 0.9558\n",
      "Epoch 49/100\n",
      "19056/19056 [==============================] - 0s - loss: 0.2582 - acc: 0.9298 - val_loss: 0.1868 - val_acc: 0.9546\n",
      "Epoch 50/100\n",
      "19056/19056 [==============================] - 0s - loss: 0.2531 - acc: 0.9332 - val_loss: 0.1870 - val_acc: 0.9540\n",
      "Epoch 51/100\n",
      "19056/19056 [==============================] - 0s - loss: 0.2563 - acc: 0.9313 - val_loss: 0.1861 - val_acc: 0.9552\n",
      "Epoch 52/100\n",
      "19056/19056 [==============================] - 0s - loss: 0.2516 - acc: 0.9345 - val_loss: 0.1861 - val_acc: 0.9552\n",
      "Epoch 53/100\n",
      "19056/19056 [==============================] - 0s - loss: 0.2548 - acc: 0.9309 - val_loss: 0.1859 - val_acc: 0.9558\n",
      "Epoch 54/100\n",
      "19056/19056 [==============================] - 0s - loss: 0.2533 - acc: 0.9338 - val_loss: 0.1858 - val_acc: 0.9546\n",
      "Epoch 55/100\n",
      "19056/19056 [==============================] - 0s - loss: 0.2554 - acc: 0.9337 - val_loss: 0.1853 - val_acc: 0.9555\n",
      "Epoch 56/100\n",
      "19056/19056 [==============================] - 0s - loss: 0.2527 - acc: 0.9326 - val_loss: 0.1853 - val_acc: 0.9552\n",
      "Epoch 57/100\n",
      "19056/19056 [==============================] - 0s - loss: 0.2517 - acc: 0.9337 - val_loss: 0.1849 - val_acc: 0.9555\n",
      "Epoch 58/100\n",
      "19056/19056 [==============================] - 0s - loss: 0.2521 - acc: 0.9339 - val_loss: 0.1851 - val_acc: 0.9546\n",
      "Epoch 59/100\n",
      "19056/19056 [==============================] - 0s - loss: 0.2501 - acc: 0.9331 - val_loss: 0.1846 - val_acc: 0.9555\n",
      "Epoch 60/100\n",
      "19056/19056 [==============================] - 0s - loss: 0.2531 - acc: 0.9343 - val_loss: 0.1843 - val_acc: 0.9552\n",
      "Epoch 61/100\n",
      "19056/19056 [==============================] - 0s - loss: 0.2473 - acc: 0.9344 - val_loss: 0.1845 - val_acc: 0.9546\n",
      "Epoch 62/100\n",
      "19056/19056 [==============================] - 0s - loss: 0.2490 - acc: 0.9334 - val_loss: 0.1839 - val_acc: 0.9555\n",
      "Epoch 63/100\n",
      "19056/19056 [==============================] - 0s - loss: 0.2452 - acc: 0.9353 - val_loss: 0.1838 - val_acc: 0.9552\n",
      "Epoch 64/100\n",
      "19056/19056 [==============================] - 0s - loss: 0.2470 - acc: 0.9345 - val_loss: 0.1835 - val_acc: 0.9552\n",
      "Epoch 65/100\n",
      "19056/19056 [==============================] - 0s - loss: 0.2530 - acc: 0.9328 - val_loss: 0.1833 - val_acc: 0.9569\n",
      "Epoch 66/100\n",
      "19056/19056 [==============================] - 0s - loss: 0.2500 - acc: 0.9334 - val_loss: 0.1831 - val_acc: 0.9567\n",
      "Epoch 67/100\n",
      "19056/19056 [==============================] - 0s - loss: 0.2491 - acc: 0.9341 - val_loss: 0.1830 - val_acc: 0.9555\n",
      "Epoch 68/100\n",
      "19056/19056 [==============================] - 0s - loss: 0.2477 - acc: 0.9312 - val_loss: 0.1828 - val_acc: 0.9561\n",
      "Epoch 69/100\n",
      "19056/19056 [==============================] - 0s - loss: 0.2497 - acc: 0.9318 - val_loss: 0.1826 - val_acc: 0.9555\n",
      "Epoch 70/100\n",
      "19056/19056 [==============================] - 0s - loss: 0.2434 - acc: 0.9367 - val_loss: 0.1822 - val_acc: 0.9558\n",
      "Epoch 71/100\n",
      "19056/19056 [==============================] - 0s - loss: 0.2515 - acc: 0.9335 - val_loss: 0.1821 - val_acc: 0.9558\n",
      "Epoch 72/100\n",
      "19056/19056 [==============================] - 0s - loss: 0.2465 - acc: 0.9348 - val_loss: 0.1821 - val_acc: 0.9572\n",
      "Epoch 73/100\n",
      "19056/19056 [==============================] - 0s - loss: 0.2495 - acc: 0.9337 - val_loss: 0.1821 - val_acc: 0.9555\n",
      "Epoch 74/100\n",
      "19056/19056 [==============================] - 0s - loss: 0.2486 - acc: 0.9348 - val_loss: 0.1815 - val_acc: 0.9567\n",
      "Epoch 75/100\n",
      "19056/19056 [==============================] - 0s - loss: 0.2448 - acc: 0.9328 - val_loss: 0.1814 - val_acc: 0.9561\n",
      "Epoch 76/100\n",
      "19056/19056 [==============================] - 0s - loss: 0.2447 - acc: 0.9356 - val_loss: 0.1812 - val_acc: 0.9564\n",
      "Epoch 77/100\n",
      "19056/19056 [==============================] - 0s - loss: 0.2500 - acc: 0.9324 - val_loss: 0.1810 - val_acc: 0.9572\n",
      "Epoch 78/100\n",
      "19056/19056 [==============================] - 0s - loss: 0.2443 - acc: 0.9367 - val_loss: 0.1806 - val_acc: 0.9567\n",
      "Epoch 79/100\n",
      "19056/19056 [==============================] - 0s - loss: 0.2438 - acc: 0.9351 - val_loss: 0.1804 - val_acc: 0.9564\n",
      "Epoch 80/100\n",
      "19056/19056 [==============================] - 0s - loss: 0.2421 - acc: 0.9379 - val_loss: 0.1802 - val_acc: 0.9564\n",
      "Epoch 81/100\n",
      "19056/19056 [==============================] - 0s - loss: 0.2437 - acc: 0.9346 - val_loss: 0.1800 - val_acc: 0.9567\n",
      "Epoch 82/100\n",
      "19056/19056 [==============================] - 0s - loss: 0.2414 - acc: 0.9366 - val_loss: 0.1801 - val_acc: 0.9561\n",
      "Epoch 83/100\n",
      "19056/19056 [==============================] - 0s - loss: 0.2427 - acc: 0.9362 - val_loss: 0.1795 - val_acc: 0.9575\n",
      "Epoch 84/100\n",
      "19056/19056 [==============================] - 0s - loss: 0.2458 - acc: 0.9349 - val_loss: 0.1796 - val_acc: 0.9572\n",
      "Epoch 85/100\n",
      "19056/19056 [==============================] - 0s - loss: 0.2429 - acc: 0.9349 - val_loss: 0.1790 - val_acc: 0.9575\n",
      "Epoch 86/100\n",
      "19056/19056 [==============================] - 0s - loss: 0.2456 - acc: 0.9339 - val_loss: 0.1793 - val_acc: 0.9558\n",
      "Epoch 87/100\n",
      "19056/19056 [==============================] - 0s - loss: 0.2422 - acc: 0.9348 - val_loss: 0.1790 - val_acc: 0.9569\n",
      "Epoch 88/100\n",
      "19056/19056 [==============================] - 0s - loss: 0.2438 - acc: 0.9324 - val_loss: 0.1789 - val_acc: 0.9572\n",
      "Epoch 89/100\n",
      "19056/19056 [==============================] - 0s - loss: 0.2413 - acc: 0.9368 - val_loss: 0.1787 - val_acc: 0.9572\n",
      "Epoch 90/100\n",
      "19056/19056 [==============================] - 0s - loss: 0.2406 - acc: 0.9338 - val_loss: 0.1783 - val_acc: 0.9567\n",
      "Epoch 91/100\n",
      "19056/19056 [==============================] - 0s - loss: 0.2400 - acc: 0.9353 - val_loss: 0.1781 - val_acc: 0.9569\n",
      "Epoch 92/100\n",
      "19056/19056 [==============================] - 0s - loss: 0.2444 - acc: 0.9332 - val_loss: 0.1779 - val_acc: 0.9567\n",
      "Epoch 93/100\n",
      "19056/19056 [==============================] - 0s - loss: 0.2437 - acc: 0.9355 - val_loss: 0.1776 - val_acc: 0.9572\n",
      "Epoch 94/100\n",
      "19056/19056 [==============================] - 0s - loss: 0.2376 - acc: 0.9390 - val_loss: 0.1776 - val_acc: 0.9567\n",
      "Epoch 95/100\n",
      "19056/19056 [==============================] - 0s - loss: 0.2426 - acc: 0.9354 - val_loss: 0.1769 - val_acc: 0.9572\n",
      "Epoch 96/100\n",
      "19056/19056 [==============================] - 0s - loss: 0.2406 - acc: 0.9377 - val_loss: 0.1772 - val_acc: 0.9569\n",
      "Epoch 97/100\n",
      "19056/19056 [==============================] - 0s - loss: 0.2372 - acc: 0.9370 - val_loss: 0.1769 - val_acc: 0.9572\n",
      "Epoch 98/100\n",
      "19056/19056 [==============================] - 0s - loss: 0.2386 - acc: 0.9370 - val_loss: 0.1768 - val_acc: 0.9569\n",
      "Epoch 99/100\n",
      "19056/19056 [==============================] - 0s - loss: 0.2404 - acc: 0.9358 - val_loss: 0.1764 - val_acc: 0.9572\n",
      "Epoch 100/100\n",
      "19056/19056 [==============================] - 0s - loss: 0.2371 - acc: 0.9391 - val_loss: 0.1761 - val_acc: 0.9569\n"
     ]
    }
   ],
   "source": [
    "sm.fit(train_features, train_labels, batch_size=len(train_features), nb_epoch=100, validation_data=(val_features, val_labels));"
   ]
  },
  {
   "cell_type": "code",
   "execution_count": null,
   "metadata": {
    "collapsed": true
   },
   "outputs": [],
   "source": []
  },
  {
   "cell_type": "markdown",
   "metadata": {},
   "source": [
    "### Predictions"
   ]
  },
  {
   "cell_type": "code",
   "execution_count": 38,
   "metadata": {
    "collapsed": false
   },
   "outputs": [
    {
     "name": "stdout",
     "output_type": "stream",
     "text": [
      "Found 79726 images belonging to 1 classes.\n"
     ]
    }
   ],
   "source": [
    "test_batches = get_batches(os.path.join(data_dir, 'test'), shuffle=False, batch_size=1, target_size=(224,224))"
   ]
  },
  {
   "cell_type": "code",
   "execution_count": 31,
   "metadata": {
    "collapsed": true
   },
   "outputs": [],
   "source": [
    "#test_features = vgg16.model.predict_generator(test_batches, test_batches.N)\n",
    "test_features = load_array('test_features.bc')"
   ]
  },
  {
   "cell_type": "code",
   "execution_count": 32,
   "metadata": {
    "collapsed": true
   },
   "outputs": [],
   "source": [
    "save_array('test_features.bc', test_features)"
   ]
  },
  {
   "cell_type": "code",
   "execution_count": 34,
   "metadata": {
    "collapsed": false
   },
   "outputs": [
    {
     "name": "stdout",
     "output_type": "stream",
     "text": [
      "79712/79726 [============================>.] - ETA: 0s"
     ]
    }
   ],
   "source": [
    "test_preds = sm.predict_proba(test_features)"
   ]
  },
  {
   "cell_type": "code",
   "execution_count": 27,
   "metadata": {
    "collapsed": false
   },
   "outputs": [
    {
     "data": {
      "text/plain": [
       "array([[  1.1701e-01,   8.7711e-03,   1.9402e-04, ...,   3.7086e-02,   9.3559e-02,   6.3164e-09],\n",
       "       [  4.1925e-01,   2.0548e-02,   1.4706e-04, ...,   1.0565e-01,   8.1237e-02,   2.2366e-10],\n",
       "       [  7.0407e-05,   4.6851e-06,   1.7796e-01, ...,   2.3803e-05,   1.2520e-01,   1.7776e-12],\n",
       "       ..., \n",
       "       [  7.8182e-03,   1.1924e-03,   2.9820e-05, ...,   4.5712e-02,   8.9333e-02,   2.1313e-10],\n",
       "       [  8.5779e-01,   2.1967e-03,   3.9021e-05, ...,   5.3938e-03,   6.2099e-02,   5.5776e-11],\n",
       "       [  2.2212e-01,   7.4201e-04,   1.1398e-03, ...,   8.9940e-04,   1.6070e-03,   3.1491e-13]], dtype=float32)"
      ]
     },
     "execution_count": 27,
     "metadata": {},
     "output_type": "execute_result"
    }
   ],
   "source": [
    "test_preds"
   ]
  },
  {
   "cell_type": "code",
   "execution_count": 28,
   "metadata": {
    "collapsed": false
   },
   "outputs": [
    {
     "data": {
      "text/plain": [
       "(79726, 10)"
      ]
     },
     "execution_count": 28,
     "metadata": {},
     "output_type": "execute_result"
    }
   ],
   "source": [
    "test_preds.shape"
   ]
  },
  {
   "cell_type": "markdown",
   "metadata": {},
   "source": [
    "### Submit Preds"
   ]
  },
  {
   "cell_type": "code",
   "execution_count": 35,
   "metadata": {
    "collapsed": false
   },
   "outputs": [],
   "source": [
    "labels = np.clip(test_preds, 0.0125, 0.9875)"
   ]
  },
  {
   "cell_type": "code",
   "execution_count": 39,
   "metadata": {
    "collapsed": false
   },
   "outputs": [],
   "source": [
    "ids = [filename.split(\"/\")[1] for filename in test_batches.filenames]"
   ]
  },
  {
   "cell_type": "code",
   "execution_count": 40,
   "metadata": {
    "collapsed": false
   },
   "outputs": [],
   "source": [
    "submission = np.column_stack([ids, labels])"
   ]
  },
  {
   "cell_type": "code",
   "execution_count": 41,
   "metadata": {
    "collapsed": true
   },
   "outputs": [],
   "source": [
    "np.savetxt('sub2.csv', submission, delimiter=',', header='img,c0,c1,c2,c3,c4,c5,c6,c7,c8,c9', fmt=\"%s\", comments='')"
   ]
  },
  {
   "cell_type": "code",
   "execution_count": 42,
   "metadata": {
    "collapsed": false
   },
   "outputs": [
    {
     "data": {
      "text/html": [
       "<a href='sub2.csv' target='_blank'>sub2.csv</a><br>"
      ],
      "text/plain": [
       "/home/ubuntu/courses/deeplearning1/nbs/lesson3/sub2.csv"
      ]
     },
     "execution_count": 42,
     "metadata": {},
     "output_type": "execute_result"
    }
   ],
>>>>>>> 32d54fe6763c675c33a28bc544c565e7a000d85f
   "source": [
    "from IPython.display import FileLink\n",
    "FileLink('sub2.csv')"
   ]
  },
  {
   "cell_type": "code",
   "execution_count": null,
   "metadata": {
    "collapsed": true
   },
   "outputs": [],
   "source": []
  }
 ],
 "metadata": {
  "anaconda-cloud": {},
  "kernelspec": {
   "display_name": "Python [conda root]",
   "language": "python",
   "name": "conda-root-py"
  },
  "language_info": {
   "codemirror_mode": {
    "name": "ipython",
    "version": 2
   },
   "file_extension": ".py",
   "mimetype": "text/x-python",
   "name": "python",
   "nbconvert_exporter": "python",
   "pygments_lexer": "ipython2",
   "version": "2.7.12"
  }
 },
 "nbformat": 4,
 "nbformat_minor": 0
}
